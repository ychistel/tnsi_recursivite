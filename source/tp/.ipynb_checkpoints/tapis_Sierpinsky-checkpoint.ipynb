{
 "cells": [
  {
   "cell_type": "markdown",
   "id": "e1cfb01e",
   "metadata": {},
   "source": [
    "# Exercice\n",
    "\n",
    "Le tapis de Sierpiñsky est une figure obtenue à partir d'un carré.\n",
    "\n",
    "- **À l'ordre 1**, on partage ce carré en 9 carrés identiques et on retire le carré central.\n",
    "- **À l'ordre 2**, on recommence ce procédé sur les 8 carrés restants : on les partage en 9 carrés et on retire le carré central.\n",
    "- On continue jusqu'à l'ordre désiré. Ici jusqu'à l'ordre n=3.\n",
    "\n",
    "On obtient une figure, appelée tapis de Sierpiñsky:\n",
    "\n",
    "![Tapis de Sierpiñsky](img/tapis_sierpinsky_3.jpg)\n",
    "\n",
    "Pour représenter ce tapis, on va utiliser le module **turtle**. \n",
    "\n",
    "## Construction du motif\n",
    "\n",
    "Dans un premier temps, on écrit une fonction qui dessine un carré respectant le motif du tapis de Sierpinsky:\n",
    "- dessine un carré noir de côté **c=360**\n",
    "- à l'intérieur de ce carré, on dessine un carré blanc.\n",
    "On obtient la figure:\n",
    "\n",
    "![Tapis de Sierpiñsky](img/tapis_sierpinsky_1.jpg)\n",
    "\n",
    "Écrire une fonction **motif_tapis** qui réalise ce motif.\n",
    "\n",
    "## Représenter le tapis\n",
    "\n",
    "Le dessin du tapis est une situation récursive. Il faut représenter un motif, plusieurs fois, avec des dimensions réduites, dans des carrés dont il faut déterminer le coin inférieur gauche.\n",
    "\n",
    "Le dessin récursif du tapis commence par les motifs les plus petits :\n",
    "- On appelle la fonction pour dessiner le grand tapis;\n",
    "- La fonction va s'appeler elle-même une première fois pour dessiner un motif plus petit dans l'un de ces huit carrés à dessiner. Elle met en attente dans une pile d'appels les autres appels de la fonction;\n",
    "- On recommence jusqu'à atteindre le cas de base qui dessine un premier motif. Ensuite, on dépile la pile d'appels et on continue le script.\n",
    "Ici, on a dessiné le plus petit motif en bas à gauche du tapis.\n",
    "\n",
    "On considère la fonction récursive **tapisser** qui a pour paramètre l'ordre **n** du motif à tracer, la position **x** et **y** du coin inférieur gauche du carré où on dessine le motif et **cote** qui est la longueur du côté du motif carré.\n",
    "\n",
    "Sur le motif initial, ci-dessus, le carré est d'ordre 3. Ce carré a été partagé en 9 carrés. On va reproduire ce motif dans plusieurs carrés.\n",
    "\n",
    "1. Si le côté du carré mesure 360 et que le coin inférieur gauche a pour coordonnées (0,0), quels les coordonnées des coins inférieurs gauches des carrés qui recevront le motif.\n",
    "2. Combien d'appels récursifs sont nécessaires pour reproduire le motif ?\n",
    "3. Pour obtenir le tapis d'ordre 3, quel sera l'appel de la fonction récursive ?\n",
    "4. Le cas de base se réalise lorsque l'ordre **n=1**. Comment se réalise-t-il?\n",
    "5. Écrire la fonction récursive **tapisser** qui permet de dessiner ce tapis."
   ]
  },
  {
   "cell_type": "code",
   "execution_count": null,
   "id": "b41b7064",
   "metadata": {},
   "outputs": [],
   "source": []
  }
 ],
 "metadata": {
  "kernelspec": {
   "display_name": "Python 3",
   "language": "python",
   "name": "python3"
  },
  "language_info": {
   "codemirror_mode": {
    "name": "ipython",
    "version": 3
   },
   "file_extension": ".py",
   "mimetype": "text/x-python",
   "name": "python",
   "nbconvert_exporter": "python",
   "pygments_lexer": "ipython3",
   "version": "3.9.4"
  }
 },
 "nbformat": 4,
 "nbformat_minor": 5
}
